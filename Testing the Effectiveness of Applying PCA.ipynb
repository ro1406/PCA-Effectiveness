{
 "cells": [
  {
   "cell_type": "markdown",
   "metadata": {},
   "source": [
    "# Testing the Effectiveness of Applying PCA"
   ]
  },
  {
   "cell_type": "markdown",
   "metadata": {},
   "source": [
    "Dataset taken from a popular Credit Card Fraud Detection dataset on Kaggle. Note: The following data is a subset of the original dataset found on Kaggle. The original dataset is quite large, and I found it easier to work with the given subset instead.  \n",
    "\n",
    "You can download this subset of the dataset from this link on my google drive:    \n",
    "\n",
    "https://drive.google.com/file/d/1tNzitLpSeC98kLpNwaFhoT3YqJBnaqHp/view?usp=sharing"
   ]
  },
  {
   "cell_type": "code",
   "execution_count": 1,
   "metadata": {},
   "outputs": [],
   "source": [
    "import pandas as pd\n",
    "import seaborn as sns\n",
    "import numpy as np\n",
    "import matplotlib.pyplot as plt\n",
    "%matplotlib inline"
   ]
  },
  {
   "cell_type": "code",
   "execution_count": 2,
   "metadata": {},
   "outputs": [],
   "source": [
    "data=pd.read_csv(\"TRAIN.csv\",index_col=0)"
   ]
  },
  {
   "cell_type": "code",
   "execution_count": 3,
   "metadata": {},
   "outputs": [
    {
     "data": {
      "text/html": [
       "<div>\n",
       "<style scoped>\n",
       "    .dataframe tbody tr th:only-of-type {\n",
       "        vertical-align: middle;\n",
       "    }\n",
       "\n",
       "    .dataframe tbody tr th {\n",
       "        vertical-align: top;\n",
       "    }\n",
       "\n",
       "    .dataframe thead th {\n",
       "        text-align: right;\n",
       "    }\n",
       "</style>\n",
       "<table border=\"1\" class=\"dataframe\">\n",
       "  <thead>\n",
       "    <tr style=\"text-align: right;\">\n",
       "      <th></th>\n",
       "      <th>V1</th>\n",
       "      <th>V2</th>\n",
       "      <th>V3</th>\n",
       "      <th>V4</th>\n",
       "      <th>V5</th>\n",
       "      <th>V6</th>\n",
       "      <th>V7</th>\n",
       "      <th>V8</th>\n",
       "      <th>V9</th>\n",
       "      <th>V10</th>\n",
       "      <th>...</th>\n",
       "      <th>V21</th>\n",
       "      <th>V22</th>\n",
       "      <th>V23</th>\n",
       "      <th>V24</th>\n",
       "      <th>V25</th>\n",
       "      <th>V26</th>\n",
       "      <th>V27</th>\n",
       "      <th>V28</th>\n",
       "      <th>Amount</th>\n",
       "      <th>Class</th>\n",
       "    </tr>\n",
       "    <tr>\n",
       "      <th>Index</th>\n",
       "      <th></th>\n",
       "      <th></th>\n",
       "      <th></th>\n",
       "      <th></th>\n",
       "      <th></th>\n",
       "      <th></th>\n",
       "      <th></th>\n",
       "      <th></th>\n",
       "      <th></th>\n",
       "      <th></th>\n",
       "      <th></th>\n",
       "      <th></th>\n",
       "      <th></th>\n",
       "      <th></th>\n",
       "      <th></th>\n",
       "      <th></th>\n",
       "      <th></th>\n",
       "      <th></th>\n",
       "      <th></th>\n",
       "      <th></th>\n",
       "      <th></th>\n",
       "    </tr>\n",
       "  </thead>\n",
       "  <tbody>\n",
       "    <tr>\n",
       "      <th>0</th>\n",
       "      <td>2.245295</td>\n",
       "      <td>-1.160960</td>\n",
       "      <td>-1.966682</td>\n",
       "      <td>-1.430190</td>\n",
       "      <td>-0.607246</td>\n",
       "      <td>-1.508696</td>\n",
       "      <td>-0.074415</td>\n",
       "      <td>-0.655096</td>\n",
       "      <td>-1.970141</td>\n",
       "      <td>1.607283</td>\n",
       "      <td>...</td>\n",
       "      <td>0.010490</td>\n",
       "      <td>0.521714</td>\n",
       "      <td>-0.064971</td>\n",
       "      <td>0.048849</td>\n",
       "      <td>0.383290</td>\n",
       "      <td>0.103970</td>\n",
       "      <td>-0.047350</td>\n",
       "      <td>-0.064800</td>\n",
       "      <td>74.75</td>\n",
       "      <td>0</td>\n",
       "    </tr>\n",
       "    <tr>\n",
       "      <th>1</th>\n",
       "      <td>1.278609</td>\n",
       "      <td>0.102574</td>\n",
       "      <td>0.512079</td>\n",
       "      <td>0.003930</td>\n",
       "      <td>-0.723474</td>\n",
       "      <td>-1.334105</td>\n",
       "      <td>0.029958</td>\n",
       "      <td>-0.296595</td>\n",
       "      <td>0.128119</td>\n",
       "      <td>-0.209865</td>\n",
       "      <td>...</td>\n",
       "      <td>-0.081470</td>\n",
       "      <td>-0.182506</td>\n",
       "      <td>0.078986</td>\n",
       "      <td>0.789993</td>\n",
       "      <td>0.219794</td>\n",
       "      <td>0.938359</td>\n",
       "      <td>-0.078720</td>\n",
       "      <td>0.008119</td>\n",
       "      <td>1.38</td>\n",
       "      <td>0</td>\n",
       "    </tr>\n",
       "    <tr>\n",
       "      <th>2</th>\n",
       "      <td>1.466457</td>\n",
       "      <td>0.026088</td>\n",
       "      <td>-0.499298</td>\n",
       "      <td>-0.674372</td>\n",
       "      <td>-0.144883</td>\n",
       "      <td>-1.178075</td>\n",
       "      <td>0.058089</td>\n",
       "      <td>-0.420145</td>\n",
       "      <td>-1.359651</td>\n",
       "      <td>0.210249</td>\n",
       "      <td>...</td>\n",
       "      <td>-0.234087</td>\n",
       "      <td>-0.710542</td>\n",
       "      <td>-0.001242</td>\n",
       "      <td>-0.174713</td>\n",
       "      <td>0.533719</td>\n",
       "      <td>-0.454779</td>\n",
       "      <td>0.001524</td>\n",
       "      <td>0.030935</td>\n",
       "      <td>10.95</td>\n",
       "      <td>0</td>\n",
       "    </tr>\n",
       "    <tr>\n",
       "      <th>3</th>\n",
       "      <td>-0.922137</td>\n",
       "      <td>-0.371579</td>\n",
       "      <td>2.132018</td>\n",
       "      <td>-0.796997</td>\n",
       "      <td>0.324175</td>\n",
       "      <td>-1.162006</td>\n",
       "      <td>0.277208</td>\n",
       "      <td>-0.249586</td>\n",
       "      <td>-0.775648</td>\n",
       "      <td>-0.061757</td>\n",
       "      <td>...</td>\n",
       "      <td>-0.302654</td>\n",
       "      <td>-0.246899</td>\n",
       "      <td>-0.045745</td>\n",
       "      <td>0.677110</td>\n",
       "      <td>0.016109</td>\n",
       "      <td>-0.734220</td>\n",
       "      <td>-0.034480</td>\n",
       "      <td>-0.064786</td>\n",
       "      <td>8.04</td>\n",
       "      <td>0</td>\n",
       "    </tr>\n",
       "    <tr>\n",
       "      <th>4</th>\n",
       "      <td>-1.166525</td>\n",
       "      <td>0.255439</td>\n",
       "      <td>2.108464</td>\n",
       "      <td>0.135019</td>\n",
       "      <td>-0.072979</td>\n",
       "      <td>0.910821</td>\n",
       "      <td>0.755918</td>\n",
       "      <td>0.355528</td>\n",
       "      <td>-0.422820</td>\n",
       "      <td>-0.842826</td>\n",
       "      <td>...</td>\n",
       "      <td>0.136470</td>\n",
       "      <td>0.017496</td>\n",
       "      <td>0.121017</td>\n",
       "      <td>0.636266</td>\n",
       "      <td>0.492943</td>\n",
       "      <td>-0.750242</td>\n",
       "      <td>0.029124</td>\n",
       "      <td>0.091303</td>\n",
       "      <td>175.00</td>\n",
       "      <td>0</td>\n",
       "    </tr>\n",
       "  </tbody>\n",
       "</table>\n",
       "<p>5 rows × 30 columns</p>\n",
       "</div>"
      ],
      "text/plain": [
       "             V1        V2        V3        V4        V5        V6        V7  \\\n",
       "Index                                                                         \n",
       "0      2.245295 -1.160960 -1.966682 -1.430190 -0.607246 -1.508696 -0.074415   \n",
       "1      1.278609  0.102574  0.512079  0.003930 -0.723474 -1.334105  0.029958   \n",
       "2      1.466457  0.026088 -0.499298 -0.674372 -0.144883 -1.178075  0.058089   \n",
       "3     -0.922137 -0.371579  2.132018 -0.796997  0.324175 -1.162006  0.277208   \n",
       "4     -1.166525  0.255439  2.108464  0.135019 -0.072979  0.910821  0.755918   \n",
       "\n",
       "             V8        V9       V10  ...       V21       V22       V23  \\\n",
       "Index                                ...                                 \n",
       "0     -0.655096 -1.970141  1.607283  ...  0.010490  0.521714 -0.064971   \n",
       "1     -0.296595  0.128119 -0.209865  ... -0.081470 -0.182506  0.078986   \n",
       "2     -0.420145 -1.359651  0.210249  ... -0.234087 -0.710542 -0.001242   \n",
       "3     -0.249586 -0.775648 -0.061757  ... -0.302654 -0.246899 -0.045745   \n",
       "4      0.355528 -0.422820 -0.842826  ...  0.136470  0.017496  0.121017   \n",
       "\n",
       "            V24       V25       V26       V27       V28  Amount  Class  \n",
       "Index                                                                   \n",
       "0      0.048849  0.383290  0.103970 -0.047350 -0.064800   74.75      0  \n",
       "1      0.789993  0.219794  0.938359 -0.078720  0.008119    1.38      0  \n",
       "2     -0.174713  0.533719 -0.454779  0.001524  0.030935   10.95      0  \n",
       "3      0.677110  0.016109 -0.734220 -0.034480 -0.064786    8.04      0  \n",
       "4      0.636266  0.492943 -0.750242  0.029124  0.091303  175.00      0  \n",
       "\n",
       "[5 rows x 30 columns]"
      ]
     },
     "execution_count": 3,
     "metadata": {},
     "output_type": "execute_result"
    }
   ],
   "source": [
    "data.head()"
   ]
  },
  {
   "cell_type": "markdown",
   "metadata": {},
   "source": [
    "The data has 29 Attributes (Features) and one Class (To predict). 0 Stands for legitimate transaction, and 1 stands for fraudulant transaction."
   ]
  },
  {
   "cell_type": "markdown",
   "metadata": {},
   "source": [
    "The columns V1-V28 have no description (No name or context given with the dataset). The Amount column indicates the amount withdrawn in the given transation."
   ]
  },
  {
   "cell_type": "code",
   "execution_count": 4,
   "metadata": {
    "scrolled": true
   },
   "outputs": [
    {
     "name": "stdout",
     "output_type": "stream",
     "text": [
      "<class 'pandas.core.frame.DataFrame'>\n",
      "Int64Index: 284455 entries, 0 to 284454\n",
      "Data columns (total 30 columns):\n",
      " #   Column  Non-Null Count   Dtype  \n",
      "---  ------  --------------   -----  \n",
      " 0   V1      284455 non-null  float64\n",
      " 1   V2      284455 non-null  float64\n",
      " 2   V3      284455 non-null  float64\n",
      " 3   V4      284455 non-null  float64\n",
      " 4   V5      284455 non-null  float64\n",
      " 5   V6      284455 non-null  float64\n",
      " 6   V7      284455 non-null  float64\n",
      " 7   V8      284455 non-null  float64\n",
      " 8   V9      284455 non-null  float64\n",
      " 9   V10     284455 non-null  float64\n",
      " 10  V11     284455 non-null  float64\n",
      " 11  V12     284455 non-null  float64\n",
      " 12  V13     284455 non-null  float64\n",
      " 13  V14     284455 non-null  float64\n",
      " 14  V15     284455 non-null  float64\n",
      " 15  V16     284455 non-null  float64\n",
      " 16  V17     284455 non-null  float64\n",
      " 17  V18     284455 non-null  float64\n",
      " 18  V19     284455 non-null  float64\n",
      " 19  V20     284455 non-null  float64\n",
      " 20  V21     284455 non-null  float64\n",
      " 21  V22     284455 non-null  float64\n",
      " 22  V23     284455 non-null  float64\n",
      " 23  V24     284455 non-null  float64\n",
      " 24  V25     284455 non-null  float64\n",
      " 25  V26     284455 non-null  float64\n",
      " 26  V27     284455 non-null  float64\n",
      " 27  V28     284455 non-null  float64\n",
      " 28  Amount  284455 non-null  float64\n",
      " 29  Class   284455 non-null  int64  \n",
      "dtypes: float64(29), int64(1)\n",
      "memory usage: 67.3 MB\n"
     ]
    }
   ],
   "source": [
    "data.info()"
   ]
  },
  {
   "cell_type": "code",
   "execution_count": 5,
   "metadata": {},
   "outputs": [
    {
     "data": {
      "text/plain": [
       "V1        0\n",
       "V2        0\n",
       "V3        0\n",
       "V4        0\n",
       "V5        0\n",
       "V6        0\n",
       "V7        0\n",
       "V8        0\n",
       "V9        0\n",
       "V10       0\n",
       "V11       0\n",
       "V12       0\n",
       "V13       0\n",
       "V14       0\n",
       "V15       0\n",
       "V16       0\n",
       "V17       0\n",
       "V18       0\n",
       "V19       0\n",
       "V20       0\n",
       "V21       0\n",
       "V22       0\n",
       "V23       0\n",
       "V24       0\n",
       "V25       0\n",
       "V26       0\n",
       "V27       0\n",
       "V28       0\n",
       "Amount    0\n",
       "Class     0\n",
       "dtype: int64"
      ]
     },
     "execution_count": 5,
     "metadata": {},
     "output_type": "execute_result"
    }
   ],
   "source": [
    "data.isnull().sum()"
   ]
  },
  {
   "cell_type": "markdown",
   "metadata": {},
   "source": [
    "There are no null values in any column! Great :)"
   ]
  },
  {
   "cell_type": "code",
   "execution_count": 6,
   "metadata": {},
   "outputs": [
    {
     "data": {
      "text/html": [
       "<div>\n",
       "<style scoped>\n",
       "    .dataframe tbody tr th:only-of-type {\n",
       "        vertical-align: middle;\n",
       "    }\n",
       "\n",
       "    .dataframe tbody tr th {\n",
       "        vertical-align: top;\n",
       "    }\n",
       "\n",
       "    .dataframe thead th {\n",
       "        text-align: right;\n",
       "    }\n",
       "</style>\n",
       "<table border=\"1\" class=\"dataframe\">\n",
       "  <thead>\n",
       "    <tr style=\"text-align: right;\">\n",
       "      <th></th>\n",
       "      <th>V1</th>\n",
       "      <th>V2</th>\n",
       "      <th>V3</th>\n",
       "      <th>V4</th>\n",
       "      <th>V5</th>\n",
       "      <th>V6</th>\n",
       "      <th>V7</th>\n",
       "      <th>V8</th>\n",
       "      <th>V9</th>\n",
       "      <th>V10</th>\n",
       "      <th>...</th>\n",
       "      <th>V21</th>\n",
       "      <th>V22</th>\n",
       "      <th>V23</th>\n",
       "      <th>V24</th>\n",
       "      <th>V25</th>\n",
       "      <th>V26</th>\n",
       "      <th>V27</th>\n",
       "      <th>V28</th>\n",
       "      <th>Amount</th>\n",
       "      <th>Class</th>\n",
       "    </tr>\n",
       "  </thead>\n",
       "  <tbody>\n",
       "    <tr>\n",
       "      <th>count</th>\n",
       "      <td>284455.000000</td>\n",
       "      <td>284455.000000</td>\n",
       "      <td>284455.000000</td>\n",
       "      <td>284455.000000</td>\n",
       "      <td>284455.000000</td>\n",
       "      <td>284455.000000</td>\n",
       "      <td>284455.000000</td>\n",
       "      <td>284455.000000</td>\n",
       "      <td>284455.000000</td>\n",
       "      <td>284455.000000</td>\n",
       "      <td>...</td>\n",
       "      <td>284455.000000</td>\n",
       "      <td>284455.000000</td>\n",
       "      <td>284455.000000</td>\n",
       "      <td>284455.000000</td>\n",
       "      <td>284455.000000</td>\n",
       "      <td>284455.000000</td>\n",
       "      <td>284455.000000</td>\n",
       "      <td>284455.000000</td>\n",
       "      <td>284455.000000</td>\n",
       "      <td>284455.000000</td>\n",
       "    </tr>\n",
       "    <tr>\n",
       "      <th>mean</th>\n",
       "      <td>0.000779</td>\n",
       "      <td>-0.000811</td>\n",
       "      <td>0.001275</td>\n",
       "      <td>-0.000793</td>\n",
       "      <td>0.000592</td>\n",
       "      <td>0.000186</td>\n",
       "      <td>0.000951</td>\n",
       "      <td>-0.000270</td>\n",
       "      <td>0.000505</td>\n",
       "      <td>0.000948</td>\n",
       "      <td>...</td>\n",
       "      <td>-0.000171</td>\n",
       "      <td>-0.000050</td>\n",
       "      <td>0.000027</td>\n",
       "      <td>0.000018</td>\n",
       "      <td>-0.000051</td>\n",
       "      <td>0.000028</td>\n",
       "      <td>-0.000037</td>\n",
       "      <td>-0.000028</td>\n",
       "      <td>88.359646</td>\n",
       "      <td>0.001547</td>\n",
       "    </tr>\n",
       "    <tr>\n",
       "      <th>std</th>\n",
       "      <td>1.956147</td>\n",
       "      <td>1.650234</td>\n",
       "      <td>1.510626</td>\n",
       "      <td>1.414216</td>\n",
       "      <td>1.378329</td>\n",
       "      <td>1.332161</td>\n",
       "      <td>1.232971</td>\n",
       "      <td>1.190897</td>\n",
       "      <td>1.097805</td>\n",
       "      <td>1.085083</td>\n",
       "      <td>...</td>\n",
       "      <td>0.732765</td>\n",
       "      <td>0.725495</td>\n",
       "      <td>0.624473</td>\n",
       "      <td>0.605645</td>\n",
       "      <td>0.521274</td>\n",
       "      <td>0.482243</td>\n",
       "      <td>0.403488</td>\n",
       "      <td>0.330127</td>\n",
       "      <td>250.177771</td>\n",
       "      <td>0.039299</td>\n",
       "    </tr>\n",
       "    <tr>\n",
       "      <th>min</th>\n",
       "      <td>-56.407510</td>\n",
       "      <td>-72.715728</td>\n",
       "      <td>-48.325589</td>\n",
       "      <td>-5.683171</td>\n",
       "      <td>-113.743307</td>\n",
       "      <td>-26.160506</td>\n",
       "      <td>-43.557242</td>\n",
       "      <td>-73.216718</td>\n",
       "      <td>-13.434066</td>\n",
       "      <td>-24.588262</td>\n",
       "      <td>...</td>\n",
       "      <td>-34.830382</td>\n",
       "      <td>-10.933144</td>\n",
       "      <td>-44.807735</td>\n",
       "      <td>-2.836627</td>\n",
       "      <td>-10.295397</td>\n",
       "      <td>-2.604551</td>\n",
       "      <td>-22.565679</td>\n",
       "      <td>-15.430084</td>\n",
       "      <td>0.000000</td>\n",
       "      <td>0.000000</td>\n",
       "    </tr>\n",
       "    <tr>\n",
       "      <th>25%</th>\n",
       "      <td>-0.920117</td>\n",
       "      <td>-0.598750</td>\n",
       "      <td>-0.889749</td>\n",
       "      <td>-0.848835</td>\n",
       "      <td>-0.691343</td>\n",
       "      <td>-0.768227</td>\n",
       "      <td>-0.553788</td>\n",
       "      <td>-0.208633</td>\n",
       "      <td>-0.642669</td>\n",
       "      <td>-0.535273</td>\n",
       "      <td>...</td>\n",
       "      <td>-0.228434</td>\n",
       "      <td>-0.542432</td>\n",
       "      <td>-0.161861</td>\n",
       "      <td>-0.354545</td>\n",
       "      <td>-0.317194</td>\n",
       "      <td>-0.326951</td>\n",
       "      <td>-0.070845</td>\n",
       "      <td>-0.052957</td>\n",
       "      <td>5.600000</td>\n",
       "      <td>0.000000</td>\n",
       "    </tr>\n",
       "    <tr>\n",
       "      <th>50%</th>\n",
       "      <td>0.018330</td>\n",
       "      <td>0.065238</td>\n",
       "      <td>0.179953</td>\n",
       "      <td>-0.020206</td>\n",
       "      <td>-0.054243</td>\n",
       "      <td>-0.274172</td>\n",
       "      <td>0.040265</td>\n",
       "      <td>0.022328</td>\n",
       "      <td>-0.051183</td>\n",
       "      <td>-0.092820</td>\n",
       "      <td>...</td>\n",
       "      <td>-0.029520</td>\n",
       "      <td>0.006675</td>\n",
       "      <td>-0.011192</td>\n",
       "      <td>0.040977</td>\n",
       "      <td>0.016461</td>\n",
       "      <td>-0.052077</td>\n",
       "      <td>0.001337</td>\n",
       "      <td>0.011238</td>\n",
       "      <td>22.000000</td>\n",
       "      <td>0.000000</td>\n",
       "    </tr>\n",
       "    <tr>\n",
       "      <th>75%</th>\n",
       "      <td>1.315693</td>\n",
       "      <td>0.803357</td>\n",
       "      <td>1.027332</td>\n",
       "      <td>0.742635</td>\n",
       "      <td>0.612015</td>\n",
       "      <td>0.398641</td>\n",
       "      <td>0.570515</td>\n",
       "      <td>0.327214</td>\n",
       "      <td>0.597346</td>\n",
       "      <td>0.454005</td>\n",
       "      <td>...</td>\n",
       "      <td>0.186326</td>\n",
       "      <td>0.528481</td>\n",
       "      <td>0.147659</td>\n",
       "      <td>0.439527</td>\n",
       "      <td>0.350697</td>\n",
       "      <td>0.240929</td>\n",
       "      <td>0.091023</td>\n",
       "      <td>0.078271</td>\n",
       "      <td>77.200000</td>\n",
       "      <td>0.000000</td>\n",
       "    </tr>\n",
       "    <tr>\n",
       "      <th>max</th>\n",
       "      <td>2.454930</td>\n",
       "      <td>22.057729</td>\n",
       "      <td>9.382558</td>\n",
       "      <td>16.875344</td>\n",
       "      <td>34.801666</td>\n",
       "      <td>73.301626</td>\n",
       "      <td>120.589494</td>\n",
       "      <td>20.007208</td>\n",
       "      <td>15.594995</td>\n",
       "      <td>23.745136</td>\n",
       "      <td>...</td>\n",
       "      <td>27.202839</td>\n",
       "      <td>10.503090</td>\n",
       "      <td>22.528412</td>\n",
       "      <td>4.584549</td>\n",
       "      <td>7.519589</td>\n",
       "      <td>3.517346</td>\n",
       "      <td>31.612198</td>\n",
       "      <td>33.847808</td>\n",
       "      <td>25691.160000</td>\n",
       "      <td>1.000000</td>\n",
       "    </tr>\n",
       "  </tbody>\n",
       "</table>\n",
       "<p>8 rows × 30 columns</p>\n",
       "</div>"
      ],
      "text/plain": [
       "                  V1             V2             V3             V4  \\\n",
       "count  284455.000000  284455.000000  284455.000000  284455.000000   \n",
       "mean        0.000779      -0.000811       0.001275      -0.000793   \n",
       "std         1.956147       1.650234       1.510626       1.414216   \n",
       "min       -56.407510     -72.715728     -48.325589      -5.683171   \n",
       "25%        -0.920117      -0.598750      -0.889749      -0.848835   \n",
       "50%         0.018330       0.065238       0.179953      -0.020206   \n",
       "75%         1.315693       0.803357       1.027332       0.742635   \n",
       "max         2.454930      22.057729       9.382558      16.875344   \n",
       "\n",
       "                  V5             V6             V7             V8  \\\n",
       "count  284455.000000  284455.000000  284455.000000  284455.000000   \n",
       "mean        0.000592       0.000186       0.000951      -0.000270   \n",
       "std         1.378329       1.332161       1.232971       1.190897   \n",
       "min      -113.743307     -26.160506     -43.557242     -73.216718   \n",
       "25%        -0.691343      -0.768227      -0.553788      -0.208633   \n",
       "50%        -0.054243      -0.274172       0.040265       0.022328   \n",
       "75%         0.612015       0.398641       0.570515       0.327214   \n",
       "max        34.801666      73.301626     120.589494      20.007208   \n",
       "\n",
       "                  V9            V10  ...            V21            V22  \\\n",
       "count  284455.000000  284455.000000  ...  284455.000000  284455.000000   \n",
       "mean        0.000505       0.000948  ...      -0.000171      -0.000050   \n",
       "std         1.097805       1.085083  ...       0.732765       0.725495   \n",
       "min       -13.434066     -24.588262  ...     -34.830382     -10.933144   \n",
       "25%        -0.642669      -0.535273  ...      -0.228434      -0.542432   \n",
       "50%        -0.051183      -0.092820  ...      -0.029520       0.006675   \n",
       "75%         0.597346       0.454005  ...       0.186326       0.528481   \n",
       "max        15.594995      23.745136  ...      27.202839      10.503090   \n",
       "\n",
       "                 V23            V24            V25            V26  \\\n",
       "count  284455.000000  284455.000000  284455.000000  284455.000000   \n",
       "mean        0.000027       0.000018      -0.000051       0.000028   \n",
       "std         0.624473       0.605645       0.521274       0.482243   \n",
       "min       -44.807735      -2.836627     -10.295397      -2.604551   \n",
       "25%        -0.161861      -0.354545      -0.317194      -0.326951   \n",
       "50%        -0.011192       0.040977       0.016461      -0.052077   \n",
       "75%         0.147659       0.439527       0.350697       0.240929   \n",
       "max        22.528412       4.584549       7.519589       3.517346   \n",
       "\n",
       "                 V27            V28         Amount          Class  \n",
       "count  284455.000000  284455.000000  284455.000000  284455.000000  \n",
       "mean       -0.000037      -0.000028      88.359646       0.001547  \n",
       "std         0.403488       0.330127     250.177771       0.039299  \n",
       "min       -22.565679     -15.430084       0.000000       0.000000  \n",
       "25%        -0.070845      -0.052957       5.600000       0.000000  \n",
       "50%         0.001337       0.011238      22.000000       0.000000  \n",
       "75%         0.091023       0.078271      77.200000       0.000000  \n",
       "max        31.612198      33.847808   25691.160000       1.000000  \n",
       "\n",
       "[8 rows x 30 columns]"
      ]
     },
     "execution_count": 6,
     "metadata": {},
     "output_type": "execute_result"
    }
   ],
   "source": [
    "data.describe()"
   ]
  },
  {
   "cell_type": "markdown",
   "metadata": {},
   "source": [
    "## Let us explore our data:"
   ]
  },
  {
   "cell_type": "markdown",
   "metadata": {},
   "source": [
    "Note: a pairplot would not be suitable for 30 columns, as it would be very small, and would be too much information displayed at once."
   ]
  },
  {
   "cell_type": "code",
   "execution_count": 7,
   "metadata": {},
   "outputs": [
    {
     "data": {
      "text/plain": [
       "<seaborn.axisgrid.JointGrid at 0x1cdc2b5e088>"
      ]
     },
     "execution_count": 7,
     "metadata": {},
     "output_type": "execute_result"
    },
    {
     "data": {
      "image/png": "[encoded data removed]",
      "text/plain": [
       "<Figure size 432x432 with 3 Axes>"
      ]
     },
     "metadata": {
      "needs_background": "light"
     },
     "output_type": "display_data"
    }
   ],
   "source": [
    "sns.jointplot(x='V1',y='V2',data=data,hue='Class')"
   ]
  },
  {
   "cell_type": "code",
   "execution_count": 8,
   "metadata": {},
   "outputs": [
    {
     "data": {
      "text/plain": [
       "<seaborn.axisgrid.JointGrid at 0x1cdc3560948>"
      ]
     },
     "execution_count": 8,
     "metadata": {},
     "output_type": "execute_result"
    },
    {
     "data": {
      "image/png": "[encoded data removed]",
      "text/plain": [
       "<Figure size 432x432 with 3 Axes>"
      ]
     },
     "metadata": {
      "needs_background": "light"
     },
     "output_type": "display_data"
    }
   ],
   "source": [
    "sns.jointplot(x='V1',y='Amount',data=data,hue='Class')"
   ]
  },
  {
   "cell_type": "code",
   "execution_count": 9,
   "metadata": {},
   "outputs": [
    {
     "name": "stderr",
     "output_type": "stream",
     "text": [
      "C:\\Users\\rohan\\Anaconda3\\lib\\site-packages\\seaborn\\distributions.py:2557: FutureWarning: `distplot` is a deprecated function and will be removed in a future version. Please adapt your code to use either `displot` (a figure-level function with similar flexibility) or `histplot` (an axes-level function for histograms).\n",
      "  warnings.warn(msg, FutureWarning)\n"
     ]
    },
    {
     "data": {
      "text/plain": [
       "<matplotlib.axes._subplots.AxesSubplot at 0x1cdc3409788>"
      ]
     },
     "execution_count": 9,
     "metadata": {},
     "output_type": "execute_result"
    },
    {
     "data": {
      "image/png": "[encoded data removed]",
      "text/plain": [
       "<Figure size 432x288 with 1 Axes>"
      ]
     },
     "metadata": {
      "needs_background": "light"
     },
     "output_type": "display_data"
    }
   ],
   "source": [
    "sns.distplot(data['V7'])"
   ]
  },
  {
   "cell_type": "code",
   "execution_count": 10,
   "metadata": {
    "scrolled": true
   },
   "outputs": [
    {
     "name": "stderr",
     "output_type": "stream",
     "text": [
      "C:\\Users\\rohan\\Anaconda3\\lib\\site-packages\\seaborn\\distributions.py:2557: FutureWarning: `distplot` is a deprecated function and will be removed in a future version. Please adapt your code to use either `displot` (a figure-level function with similar flexibility) or `histplot` (an axes-level function for histograms).\n",
      "  warnings.warn(msg, FutureWarning)\n"
     ]
    },
    {
     "data": {
      "text/plain": [
       "<matplotlib.axes._subplots.AxesSubplot at 0x1cdc36be908>"
      ]
     },
     "execution_count": 10,
     "metadata": {},
     "output_type": "execute_result"
    },
    {
     "data": {
      "image/png": "[encoded data removed]",
      "text/plain": [
       "<Figure size 432x288 with 1 Axes>"
      ]
     },
     "metadata": {
      "needs_background": "light"
     },
     "output_type": "display_data"
    }
   ],
   "source": [
    "sns.distplot(data['Amount'])"
   ]
  },
  {
   "cell_type": "code",
   "execution_count": 11,
   "metadata": {
    "scrolled": false
   },
   "outputs": [
    {
     "data": {
      "text/plain": [
       "<matplotlib.axes._subplots.AxesSubplot at 0x1cdc5075988>"
      ]
     },
     "execution_count": 11,
     "metadata": {},
     "output_type": "execute_result"
    },
    {
     "data": {
      "image/png": "[encoded data removed]",
      "text/plain": [
       "<Figure size 432x288 with 1 Axes>"
      ]
     },
     "metadata": {
      "needs_background": "light"
     },
     "output_type": "display_data"
    }
   ],
   "source": [
    "sns.barplot(x='Class', y='Amount', data=data)"
   ]
  },
  {
   "cell_type": "markdown",
   "metadata": {},
   "source": [
    "The fraudulant transactions (Class 1) tend to use higher amounts, and have large outliers. This could be useful for classification. More below..."
   ]
  },
  {
   "cell_type": "code",
   "execution_count": 12,
   "metadata": {},
   "outputs": [
    {
     "data": {
      "text/plain": [
       "<matplotlib.axes._subplots.AxesSubplot at 0x1cdc5084ec8>"
      ]
     },
     "execution_count": 12,
     "metadata": {},
     "output_type": "execute_result"
    },
    {
     "data": {
      "image/png": "[encoded data removed]",
      "text/plain": [
       "<Figure size 720x576 with 1 Axes>"
      ]
     },
     "metadata": {
      "needs_background": "light"
     },
     "output_type": "display_data"
    }
   ],
   "source": [
    "plt.figure(figsize=(10,8))\n",
    "sns.boxplot(x='Class',y='Amount', data=data)"
   ]
  },
  {
   "cell_type": "markdown",
   "metadata": {},
   "source": [
    "Clearly, there are large outliers in both classes that are causing this large skewed shape of the boxplots!    \n",
    "We will remove these outliers below."
   ]
  },
  {
   "cell_type": "code",
   "execution_count": 13,
   "metadata": {},
   "outputs": [
    {
     "data": {
      "text/plain": [
       "<matplotlib.axes._subplots.AxesSubplot at 0x1cdc1535ac8>"
      ]
     },
     "execution_count": 13,
     "metadata": {},
     "output_type": "execute_result"
    },
    {
     "data": {
      "image/png": "[encoded data removed]",
      "text/plain": [
       "<Figure size 864x720 with 2 Axes>"
      ]
     },
     "metadata": {
      "needs_background": "light"
     },
     "output_type": "display_data"
    }
   ],
   "source": [
    "plt.figure(figsize=(12,10))\n",
    "sns.heatmap(data.corr(), cmap='coolwarm')"
   ]
  },
  {
   "cell_type": "markdown",
   "metadata": {},
   "source": [
    "## Observations:"
   ]
  },
  {
   "cell_type": "markdown",
   "metadata": {},
   "source": [
    "We notice almost all the columns have large outliers which must be dealt with. However, we can notice from the jointplots above that some of these outliers are actually of class 1 (Which we want to detect!). Hence maybe we should keep atleast these outliers that have a favourable output. \n",
    "\n",
    "Next, we notice from the heatmap, that alot of columns have poor correlation with eachother, except for the amount column that has slightly more correlation with some other columns."
   ]
  },
  {
   "cell_type": "markdown",
   "metadata": {},
   "source": [
    " We now explore some information about the number of samples for each class:"
   ]
  },
  {
   "cell_type": "code",
   "execution_count": 14,
   "metadata": {},
   "outputs": [
    {
     "data": {
      "text/plain": [
       "440"
      ]
     },
     "execution_count": 14,
     "metadata": {},
     "output_type": "execute_result"
    }
   ],
   "source": [
    "(data['Class']==1).sum()"
   ]
  },
  {
   "cell_type": "code",
   "execution_count": 15,
   "metadata": {},
   "outputs": [
    {
     "data": {
      "text/plain": [
       "284015"
      ]
     },
     "execution_count": 15,
     "metadata": {},
     "output_type": "execute_result"
    }
   ],
   "source": [
    "(data['Class']==0).sum()"
   ]
  },
  {
   "cell_type": "markdown",
   "metadata": {},
   "source": [
    "We can clearly see that we have inbalanced data. To balance the data, I will use the SMOTE method which creates new data by interpolating existing data. \n",
    "Note: This has not been covered in class, but I am doing this so that our data looks more like the data employed in the examples in class where the number of data points for either class were almost equal"
   ]
  },
  {
   "cell_type": "markdown",
   "metadata": {},
   "source": [
    "## Removal of outliers\n",
    "I only remove the outliers that are NOT class 1, since we have very few class 1 records.\n",
    "This removal of outliers will lead to loss of certain data, but will also preserve some important data."
   ]
  },
  {
   "cell_type": "code",
   "execution_count": 16,
   "metadata": {
    "scrolled": false
   },
   "outputs": [
    {
     "data": {
      "text/html": [
       "<div>\n",
       "<style scoped>\n",
       "    .dataframe tbody tr th:only-of-type {\n",
       "        vertical-align: middle;\n",
       "    }\n",
       "\n",
       "    .dataframe tbody tr th {\n",
       "        vertical-align: top;\n",
       "    }\n",
       "\n",
       "    .dataframe thead th {\n",
       "        text-align: right;\n",
       "    }\n",
       "</style>\n",
       "<table border=\"1\" class=\"dataframe\">\n",
       "  <thead>\n",
       "    <tr style=\"text-align: right;\">\n",
       "      <th></th>\n",
       "      <th>V1</th>\n",
       "      <th>V2</th>\n",
       "      <th>V3</th>\n",
       "      <th>V4</th>\n",
       "      <th>V5</th>\n",
       "      <th>V6</th>\n",
       "      <th>V7</th>\n",
       "      <th>V8</th>\n",
       "      <th>V9</th>\n",
       "      <th>V10</th>\n",
       "      <th>...</th>\n",
       "      <th>V20</th>\n",
       "      <th>V21</th>\n",
       "      <th>V22</th>\n",
       "      <th>V23</th>\n",
       "      <th>V24</th>\n",
       "      <th>V25</th>\n",
       "      <th>V26</th>\n",
       "      <th>V27</th>\n",
       "      <th>V28</th>\n",
       "      <th>Amount</th>\n",
       "    </tr>\n",
       "    <tr>\n",
       "      <th>Index</th>\n",
       "      <th></th>\n",
       "      <th></th>\n",
       "      <th></th>\n",
       "      <th></th>\n",
       "      <th></th>\n",
       "      <th></th>\n",
       "      <th></th>\n",
       "      <th></th>\n",
       "      <th></th>\n",
       "      <th></th>\n",
       "      <th></th>\n",
       "      <th></th>\n",
       "      <th></th>\n",
       "      <th></th>\n",
       "      <th></th>\n",
       "      <th></th>\n",
       "      <th></th>\n",
       "      <th></th>\n",
       "      <th></th>\n",
       "      <th></th>\n",
       "      <th></th>\n",
       "    </tr>\n",
       "  </thead>\n",
       "  <tbody>\n",
       "    <tr>\n",
       "      <th>0</th>\n",
       "      <td>2.245295</td>\n",
       "      <td>-1.160960</td>\n",
       "      <td>-1.966682</td>\n",
       "      <td>-1.430190</td>\n",
       "      <td>-0.607246</td>\n",
       "      <td>-1.508696</td>\n",
       "      <td>-0.074415</td>\n",
       "      <td>-0.655096</td>\n",
       "      <td>-1.970141</td>\n",
       "      <td>1.607283</td>\n",
       "      <td>...</td>\n",
       "      <td>-0.292081</td>\n",
       "      <td>0.010490</td>\n",
       "      <td>0.521714</td>\n",
       "      <td>-0.064971</td>\n",
       "      <td>0.048849</td>\n",
       "      <td>0.383290</td>\n",
       "      <td>0.103970</td>\n",
       "      <td>-0.047350</td>\n",
       "      <td>-0.064800</td>\n",
       "      <td>74.75</td>\n",
       "    </tr>\n",
       "    <tr>\n",
       "      <th>1</th>\n",
       "      <td>1.278609</td>\n",
       "      <td>0.102574</td>\n",
       "      <td>0.512079</td>\n",
       "      <td>0.003930</td>\n",
       "      <td>-0.723474</td>\n",
       "      <td>-1.334105</td>\n",
       "      <td>0.029958</td>\n",
       "      <td>-0.296595</td>\n",
       "      <td>0.128119</td>\n",
       "      <td>-0.209865</td>\n",
       "      <td>...</td>\n",
       "      <td>-0.040015</td>\n",
       "      <td>-0.081470</td>\n",
       "      <td>-0.182506</td>\n",
       "      <td>0.078986</td>\n",
       "      <td>0.789993</td>\n",
       "      <td>0.219794</td>\n",
       "      <td>0.938359</td>\n",
       "      <td>-0.078720</td>\n",
       "      <td>0.008119</td>\n",
       "      <td>1.38</td>\n",
       "    </tr>\n",
       "    <tr>\n",
       "      <th>2</th>\n",
       "      <td>1.466457</td>\n",
       "      <td>0.026088</td>\n",
       "      <td>-0.499298</td>\n",
       "      <td>-0.674372</td>\n",
       "      <td>-0.144883</td>\n",
       "      <td>-1.178075</td>\n",
       "      <td>0.058089</td>\n",
       "      <td>-0.420145</td>\n",
       "      <td>-1.359651</td>\n",
       "      <td>0.210249</td>\n",
       "      <td>...</td>\n",
       "      <td>0.207653</td>\n",
       "      <td>-0.234087</td>\n",
       "      <td>-0.710542</td>\n",
       "      <td>-0.001242</td>\n",
       "      <td>-0.174713</td>\n",
       "      <td>0.533719</td>\n",
       "      <td>-0.454779</td>\n",
       "      <td>0.001524</td>\n",
       "      <td>0.030935</td>\n",
       "      <td>10.95</td>\n",
       "    </tr>\n",
       "    <tr>\n",
       "      <th>3</th>\n",
       "      <td>-0.922137</td>\n",
       "      <td>-0.371579</td>\n",
       "      <td>2.132018</td>\n",
       "      <td>-0.796997</td>\n",
       "      <td>0.324175</td>\n",
       "      <td>-1.162006</td>\n",
       "      <td>0.277208</td>\n",
       "      <td>-0.249586</td>\n",
       "      <td>-0.775648</td>\n",
       "      <td>-0.061757</td>\n",
       "      <td>...</td>\n",
       "      <td>-0.461062</td>\n",
       "      <td>-0.302654</td>\n",
       "      <td>-0.246899</td>\n",
       "      <td>-0.045745</td>\n",
       "      <td>0.677110</td>\n",
       "      <td>0.016109</td>\n",
       "      <td>-0.734220</td>\n",
       "      <td>-0.034480</td>\n",
       "      <td>-0.064786</td>\n",
       "      <td>8.04</td>\n",
       "    </tr>\n",
       "    <tr>\n",
       "      <th>4</th>\n",
       "      <td>-1.166525</td>\n",
       "      <td>0.255439</td>\n",
       "      <td>2.108464</td>\n",
       "      <td>0.135019</td>\n",
       "      <td>-0.072979</td>\n",
       "      <td>0.910821</td>\n",
       "      <td>0.755918</td>\n",
       "      <td>0.355528</td>\n",
       "      <td>-0.422820</td>\n",
       "      <td>-0.842826</td>\n",
       "      <td>...</td>\n",
       "      <td>0.353355</td>\n",
       "      <td>0.136470</td>\n",
       "      <td>0.017496</td>\n",
       "      <td>0.121017</td>\n",
       "      <td>0.636266</td>\n",
       "      <td>0.492943</td>\n",
       "      <td>-0.750242</td>\n",
       "      <td>0.029124</td>\n",
       "      <td>0.091303</td>\n",
       "      <td>175.00</td>\n",
       "    </tr>\n",
       "    <tr>\n",
       "      <th>...</th>\n",
       "      <td>...</td>\n",
       "      <td>...</td>\n",
       "      <td>...</td>\n",
       "      <td>...</td>\n",
       "      <td>...</td>\n",
       "      <td>...</td>\n",
       "      <td>...</td>\n",
       "      <td>...</td>\n",
       "      <td>...</td>\n",
       "      <td>...</td>\n",
       "      <td>...</td>\n",
       "      <td>...</td>\n",
       "      <td>...</td>\n",
       "      <td>...</td>\n",
       "      <td>...</td>\n",
       "      <td>...</td>\n",
       "      <td>...</td>\n",
       "      <td>...</td>\n",
       "      <td>...</td>\n",
       "      <td>...</td>\n",
       "      <td>...</td>\n",
       "    </tr>\n",
       "    <tr>\n",
       "      <th>284450</th>\n",
       "      <td>1.216221</td>\n",
       "      <td>0.095995</td>\n",
       "      <td>0.666817</td>\n",
       "      <td>1.850616</td>\n",
       "      <td>-0.516269</td>\n",
       "      <td>-0.267296</td>\n",
       "      <td>-0.183114</td>\n",
       "      <td>-0.104976</td>\n",
       "      <td>-1.985790</td>\n",
       "      <td>1.442988</td>\n",
       "      <td>...</td>\n",
       "      <td>-0.528517</td>\n",
       "      <td>-0.286826</td>\n",
       "      <td>-0.347838</td>\n",
       "      <td>0.072935</td>\n",
       "      <td>0.367923</td>\n",
       "      <td>0.358108</td>\n",
       "      <td>0.044019</td>\n",
       "      <td>0.027223</td>\n",
       "      <td>0.028017</td>\n",
       "      <td>19.46</td>\n",
       "    </tr>\n",
       "    <tr>\n",
       "      <th>284451</th>\n",
       "      <td>1.429502</td>\n",
       "      <td>-0.990271</td>\n",
       "      <td>-0.224429</td>\n",
       "      <td>-1.808740</td>\n",
       "      <td>0.770788</td>\n",
       "      <td>3.730989</td>\n",
       "      <td>-1.914212</td>\n",
       "      <td>1.036385</td>\n",
       "      <td>-0.316971</td>\n",
       "      <td>0.646103</td>\n",
       "      <td>...</td>\n",
       "      <td>0.206332</td>\n",
       "      <td>0.376136</td>\n",
       "      <td>0.928723</td>\n",
       "      <td>-0.108174</td>\n",
       "      <td>1.048922</td>\n",
       "      <td>0.481214</td>\n",
       "      <td>-0.026342</td>\n",
       "      <td>0.062900</td>\n",
       "      <td>0.024639</td>\n",
       "      <td>0.02</td>\n",
       "    </tr>\n",
       "    <tr>\n",
       "      <th>284452</th>\n",
       "      <td>2.041198</td>\n",
       "      <td>-0.218276</td>\n",
       "      <td>-1.405547</td>\n",
       "      <td>0.187570</td>\n",
       "      <td>0.001916</td>\n",
       "      <td>-0.781668</td>\n",
       "      <td>-0.043787</td>\n",
       "      <td>-0.090115</td>\n",
       "      <td>0.677407</td>\n",
       "      <td>0.227002</td>\n",
       "      <td>...</td>\n",
       "      <td>-0.348353</td>\n",
       "      <td>0.273900</td>\n",
       "      <td>0.844092</td>\n",
       "      <td>-0.023770</td>\n",
       "      <td>-0.407890</td>\n",
       "      <td>0.190140</td>\n",
       "      <td>-0.089576</td>\n",
       "      <td>-0.029237</td>\n",
       "      <td>-0.075626</td>\n",
       "      <td>1.00</td>\n",
       "    </tr>\n",
       "    <tr>\n",
       "      <th>284453</th>\n",
       "      <td>1.857451</td>\n",
       "      <td>0.071823</td>\n",
       "      <td>-0.086963</td>\n",
       "      <td>3.553877</td>\n",
       "      <td>0.082026</td>\n",
       "      <td>1.245277</td>\n",
       "      <td>-0.788886</td>\n",
       "      <td>0.467363</td>\n",
       "      <td>-0.271086</td>\n",
       "      <td>1.574760</td>\n",
       "      <td>...</td>\n",
       "      <td>-0.306389</td>\n",
       "      <td>0.170106</td>\n",
       "      <td>0.451313</td>\n",
       "      <td>0.157898</td>\n",
       "      <td>0.129330</td>\n",
       "      <td>-0.228721</td>\n",
       "      <td>0.012281</td>\n",
       "      <td>-0.003598</td>\n",
       "      <td>-0.041590</td>\n",
       "      <td>11.31</td>\n",
       "    </tr>\n",
       "    <tr>\n",
       "      <th>284454</th>\n",
       "      <td>-0.684651</td>\n",
       "      <td>1.031745</td>\n",
       "      <td>0.693707</td>\n",
       "      <td>0.966796</td>\n",
       "      <td>0.297916</td>\n",
       "      <td>1.261476</td>\n",
       "      <td>-0.125550</td>\n",
       "      <td>0.887185</td>\n",
       "      <td>-0.256040</td>\n",
       "      <td>-0.156763</td>\n",
       "      <td>...</td>\n",
       "      <td>0.027695</td>\n",
       "      <td>0.042087</td>\n",
       "      <td>0.333864</td>\n",
       "      <td>-0.259636</td>\n",
       "      <td>-1.304181</td>\n",
       "      <td>-0.035003</td>\n",
       "      <td>-0.099278</td>\n",
       "      <td>0.318439</td>\n",
       "      <td>0.128356</td>\n",
       "      <td>14.95</td>\n",
       "    </tr>\n",
       "  </tbody>\n",
       "</table>\n",
       "<p>284455 rows × 29 columns</p>\n",
       "</div>"
      ],
      "text/plain": [
       "              V1        V2        V3        V4        V5        V6        V7  \\\n",
       "Index                                                                          \n",
       "0       2.245295 -1.160960 -1.966682 -1.430190 -0.607246 -1.508696 -0.074415   \n",
       "1       1.278609  0.102574  0.512079  0.003930 -0.723474 -1.334105  0.029958   \n",
       "2       1.466457  0.026088 -0.499298 -0.674372 -0.144883 -1.178075  0.058089   \n",
       "3      -0.922137 -0.371579  2.132018 -0.796997  0.324175 -1.162006  0.277208   \n",
       "4      -1.166525  0.255439  2.108464  0.135019 -0.072979  0.910821  0.755918   \n",
       "...          ...       ...       ...       ...       ...       ...       ...   \n",
       "284450  1.216221  0.095995  0.666817  1.850616 -0.516269 -0.267296 -0.183114   \n",
       "284451  1.429502 -0.990271 -0.224429 -1.808740  0.770788  3.730989 -1.914212   \n",
       "284452  2.041198 -0.218276 -1.405547  0.187570  0.001916 -0.781668 -0.043787   \n",
       "284453  1.857451  0.071823 -0.086963  3.553877  0.082026  1.245277 -0.788886   \n",
       "284454 -0.684651  1.031745  0.693707  0.966796  0.297916  1.261476 -0.125550   \n",
       "\n",
       "              V8        V9       V10  ...       V20       V21       V22  \\\n",
       "Index                                 ...                                 \n",
       "0      -0.655096 -1.970141  1.607283  ... -0.292081  0.010490  0.521714   \n",
       "1      -0.296595  0.128119 -0.209865  ... -0.040015 -0.081470 -0.182506   \n",
       "2      -0.420145 -1.359651  0.210249  ...  0.207653 -0.234087 -0.710542   \n",
       "3      -0.249586 -0.775648 -0.061757  ... -0.461062 -0.302654 -0.246899   \n",
       "4       0.355528 -0.422820 -0.842826  ...  0.353355  0.136470  0.017496   \n",
       "...          ...       ...       ...  ...       ...       ...       ...   \n",
       "284450 -0.104976 -1.985790  1.442988  ... -0.528517 -0.286826 -0.347838   \n",
       "284451  1.036385 -0.316971  0.646103  ...  0.206332  0.376136  0.928723   \n",
       "284452 -0.090115  0.677407  0.227002  ... -0.348353  0.273900  0.844092   \n",
       "284453  0.467363 -0.271086  1.574760  ... -0.306389  0.170106  0.451313   \n",
       "284454  0.887185 -0.256040 -0.156763  ...  0.027695  0.042087  0.333864   \n",
       "\n",
       "             V23       V24       V25       V26       V27       V28  Amount  \n",
       "Index                                                                       \n",
       "0      -0.064971  0.048849  0.383290  0.103970 -0.047350 -0.064800   74.75  \n",
       "1       0.078986  0.789993  0.219794  0.938359 -0.078720  0.008119    1.38  \n",
       "2      -0.001242 -0.174713  0.533719 -0.454779  0.001524  0.030935   10.95  \n",
       "3      -0.045745  0.677110  0.016109 -0.734220 -0.034480 -0.064786    8.04  \n",
       "4       0.121017  0.636266  0.492943 -0.750242  0.029124  0.091303  175.00  \n",
       "...          ...       ...       ...       ...       ...       ...     ...  \n",
       "284450  0.072935  0.367923  0.358108  0.044019  0.027223  0.028017   19.46  \n",
       "284451 -0.108174  1.048922  0.481214 -0.026342  0.062900  0.024639    0.02  \n",
       "284452 -0.023770 -0.407890  0.190140 -0.089576 -0.029237 -0.075626    1.00  \n",
       "284453  0.157898  0.129330 -0.228721  0.012281 -0.003598 -0.041590   11.31  \n",
       "284454 -0.259636 -1.304181 -0.035003 -0.099278  0.318439  0.128356   14.95  \n",
       "\n",
       "[284455 rows x 29 columns]"
      ]
     },
     "execution_count": 16,
     "metadata": {},
     "output_type": "execute_result"
    }
   ],
   "source": [
    "y=data['Class']\n",
    "data=data.drop('Class',axis=1)\n",
    "data"
   ]
  },
  {
   "cell_type": "code",
   "execution_count": 17,
   "metadata": {
    "scrolled": true
   },
   "outputs": [
    {
     "data": {
      "text/html": [
       "<div>\n",
       "<style scoped>\n",
       "    .dataframe tbody tr th:only-of-type {\n",
       "        vertical-align: middle;\n",
       "    }\n",
       "\n",
       "    .dataframe tbody tr th {\n",
       "        vertical-align: top;\n",
       "    }\n",
       "\n",
       "    .dataframe thead th {\n",
       "        text-align: right;\n",
       "    }\n",
       "</style>\n",
       "<table border=\"1\" class=\"dataframe\">\n",
       "  <thead>\n",
       "    <tr style=\"text-align: right;\">\n",
       "      <th></th>\n",
       "      <th>V1</th>\n",
       "      <th>V2</th>\n",
       "      <th>V3</th>\n",
       "      <th>V4</th>\n",
       "      <th>V5</th>\n",
       "      <th>V6</th>\n",
       "      <th>V7</th>\n",
       "      <th>V8</th>\n",
       "      <th>V9</th>\n",
       "      <th>V10</th>\n",
       "      <th>...</th>\n",
       "      <th>V20</th>\n",
       "      <th>V21</th>\n",
       "      <th>V22</th>\n",
       "      <th>V23</th>\n",
       "      <th>V24</th>\n",
       "      <th>V25</th>\n",
       "      <th>V26</th>\n",
       "      <th>V27</th>\n",
       "      <th>V28</th>\n",
       "      <th>Amount</th>\n",
       "    </tr>\n",
       "    <tr>\n",
       "      <th>Index</th>\n",
       "      <th></th>\n",
       "      <th></th>\n",
       "      <th></th>\n",
       "      <th></th>\n",
       "      <th></th>\n",
       "      <th></th>\n",
       "      <th></th>\n",
       "      <th></th>\n",
       "      <th></th>\n",
       "      <th></th>\n",
       "      <th></th>\n",
       "      <th></th>\n",
       "      <th></th>\n",
       "      <th></th>\n",
       "      <th></th>\n",
       "      <th></th>\n",
       "      <th></th>\n",
       "      <th></th>\n",
       "      <th></th>\n",
       "      <th></th>\n",
       "      <th></th>\n",
       "    </tr>\n",
       "  </thead>\n",
       "  <tbody>\n",
       "    <tr>\n",
       "      <th>0</th>\n",
       "      <td>1.147419</td>\n",
       "      <td>-0.703022</td>\n",
       "      <td>-1.302745</td>\n",
       "      <td>-1.010736</td>\n",
       "      <td>-0.440997</td>\n",
       "      <td>-1.132659</td>\n",
       "      <td>-0.061125</td>\n",
       "      <td>-0.549860</td>\n",
       "      <td>-1.795082</td>\n",
       "      <td>1.480383</td>\n",
       "      <td>...</td>\n",
       "      <td>-0.378757</td>\n",
       "      <td>0.014549</td>\n",
       "      <td>0.719185</td>\n",
       "      <td>-0.104085</td>\n",
       "      <td>0.080627</td>\n",
       "      <td>0.735394</td>\n",
       "      <td>0.215538</td>\n",
       "      <td>-0.117261</td>\n",
       "      <td>-0.196205</td>\n",
       "      <td>-0.054400</td>\n",
       "    </tr>\n",
       "    <tr>\n",
       "      <th>1</th>\n",
       "      <td>0.653239</td>\n",
       "      <td>0.062649</td>\n",
       "      <td>0.338141</td>\n",
       "      <td>0.003340</td>\n",
       "      <td>-0.525322</td>\n",
       "      <td>-1.001601</td>\n",
       "      <td>0.023526</td>\n",
       "      <td>-0.248825</td>\n",
       "      <td>0.116245</td>\n",
       "      <td>-0.194284</td>\n",
       "      <td>...</td>\n",
       "      <td>-0.051857</td>\n",
       "      <td>-0.110948</td>\n",
       "      <td>-0.251492</td>\n",
       "      <td>0.126441</td>\n",
       "      <td>1.304356</td>\n",
       "      <td>0.421745</td>\n",
       "      <td>1.945768</td>\n",
       "      <td>-0.195009</td>\n",
       "      <td>0.024676</td>\n",
       "      <td>-0.347672</td>\n",
       "    </tr>\n",
       "    <tr>\n",
       "      <th>2</th>\n",
       "      <td>0.749269</td>\n",
       "      <td>0.016300</td>\n",
       "      <td>-0.331369</td>\n",
       "      <td>-0.476292</td>\n",
       "      <td>-0.105545</td>\n",
       "      <td>-0.884475</td>\n",
       "      <td>0.046342</td>\n",
       "      <td>-0.352571</td>\n",
       "      <td>-1.238980</td>\n",
       "      <td>0.192890</td>\n",
       "      <td>...</td>\n",
       "      <td>0.269338</td>\n",
       "      <td>-0.319224</td>\n",
       "      <td>-0.979323</td>\n",
       "      <td>-0.002033</td>\n",
       "      <td>-0.288505</td>\n",
       "      <td>1.023973</td>\n",
       "      <td>-0.943111</td>\n",
       "      <td>0.003869</td>\n",
       "      <td>0.093790</td>\n",
       "      <td>-0.309419</td>\n",
       "    </tr>\n",
       "    <tr>\n",
       "      <th>3</th>\n",
       "      <td>-0.471804</td>\n",
       "      <td>-0.224676</td>\n",
       "      <td>1.410505</td>\n",
       "      <td>-0.563001</td>\n",
       "      <td>0.234765</td>\n",
       "      <td>-0.872412</td>\n",
       "      <td>0.224059</td>\n",
       "      <td>-0.209352</td>\n",
       "      <td>-0.707006</td>\n",
       "      <td>-0.057788</td>\n",
       "      <td>...</td>\n",
       "      <td>-0.597905</td>\n",
       "      <td>-0.412797</td>\n",
       "      <td>-0.340249</td>\n",
       "      <td>-0.073297</td>\n",
       "      <td>1.117970</td>\n",
       "      <td>0.031000</td>\n",
       "      <td>-1.522573</td>\n",
       "      <td>-0.085364</td>\n",
       "      <td>-0.196163</td>\n",
       "      <td>-0.321051</td>\n",
       "    </tr>\n",
       "    <tr>\n",
       "      <th>4</th>\n",
       "      <td>-0.596737</td>\n",
       "      <td>0.155281</td>\n",
       "      <td>1.394913</td>\n",
       "      <td>0.096033</td>\n",
       "      <td>-0.053377</td>\n",
       "      <td>0.683579</td>\n",
       "      <td>0.612317</td>\n",
       "      <td>0.298765</td>\n",
       "      <td>-0.385611</td>\n",
       "      <td>-0.777614</td>\n",
       "      <td>...</td>\n",
       "      <td>0.458297</td>\n",
       "      <td>0.186474</td>\n",
       "      <td>0.024185</td>\n",
       "      <td>0.193748</td>\n",
       "      <td>1.050532</td>\n",
       "      <td>0.945749</td>\n",
       "      <td>-1.555795</td>\n",
       "      <td>0.072272</td>\n",
       "      <td>0.276653</td>\n",
       "      <td>0.346316</td>\n",
       "    </tr>\n",
       "    <tr>\n",
       "      <th>...</th>\n",
       "      <td>...</td>\n",
       "      <td>...</td>\n",
       "      <td>...</td>\n",
       "      <td>...</td>\n",
       "      <td>...</td>\n",
       "      <td>...</td>\n",
       "      <td>...</td>\n",
       "      <td>...</td>\n",
       "      <td>...</td>\n",
       "      <td>...</td>\n",
       "      <td>...</td>\n",
       "      <td>...</td>\n",
       "      <td>...</td>\n",
       "      <td>...</td>\n",
       "      <td>...</td>\n",
       "      <td>...</td>\n",
       "      <td>...</td>\n",
       "      <td>...</td>\n",
       "      <td>...</td>\n",
       "      <td>...</td>\n",
       "      <td>...</td>\n",
       "    </tr>\n",
       "    <tr>\n",
       "      <th>284450</th>\n",
       "      <td>0.621346</td>\n",
       "      <td>0.058662</td>\n",
       "      <td>0.440574</td>\n",
       "      <td>1.309144</td>\n",
       "      <td>-0.374991</td>\n",
       "      <td>-0.200788</td>\n",
       "      <td>-0.149286</td>\n",
       "      <td>-0.087922</td>\n",
       "      <td>-1.809337</td>\n",
       "      <td>1.328969</td>\n",
       "      <td>...</td>\n",
       "      <td>-0.685387</td>\n",
       "      <td>-0.391196</td>\n",
       "      <td>-0.479381</td>\n",
       "      <td>0.116751</td>\n",
       "      <td>0.607461</td>\n",
       "      <td>0.687086</td>\n",
       "      <td>0.091222</td>\n",
       "      <td>0.067560</td>\n",
       "      <td>0.084953</td>\n",
       "      <td>-0.275403</td>\n",
       "    </tr>\n",
       "    <tr>\n",
       "      <th>284451</th>\n",
       "      <td>0.730377</td>\n",
       "      <td>-0.599589</td>\n",
       "      <td>-0.149411</td>\n",
       "      <td>-1.278411</td>\n",
       "      <td>0.558790</td>\n",
       "      <td>2.800570</td>\n",
       "      <td>-1.553293</td>\n",
       "      <td>0.870483</td>\n",
       "      <td>-0.289192</td>\n",
       "      <td>0.594568</td>\n",
       "      <td>...</td>\n",
       "      <td>0.267625</td>\n",
       "      <td>0.513546</td>\n",
       "      <td>1.280194</td>\n",
       "      <td>-0.173269</td>\n",
       "      <td>1.731882</td>\n",
       "      <td>0.923249</td>\n",
       "      <td>-0.054681</td>\n",
       "      <td>0.155983</td>\n",
       "      <td>0.074718</td>\n",
       "      <td>-0.353108</td>\n",
       "    </tr>\n",
       "    <tr>\n",
       "      <th>284452</th>\n",
       "      <td>1.043083</td>\n",
       "      <td>-0.131779</td>\n",
       "      <td>-0.931285</td>\n",
       "      <td>0.133193</td>\n",
       "      <td>0.000961</td>\n",
       "      <td>-0.586908</td>\n",
       "      <td>-0.036284</td>\n",
       "      <td>-0.075444</td>\n",
       "      <td>0.616598</td>\n",
       "      <td>0.208329</td>\n",
       "      <td>...</td>\n",
       "      <td>-0.451735</td>\n",
       "      <td>0.374024</td>\n",
       "      <td>1.163541</td>\n",
       "      <td>-0.038108</td>\n",
       "      <td>-0.673512</td>\n",
       "      <td>0.364858</td>\n",
       "      <td>-0.185807</td>\n",
       "      <td>-0.072368</td>\n",
       "      <td>-0.228999</td>\n",
       "      <td>-0.349191</td>\n",
       "    </tr>\n",
       "    <tr>\n",
       "      <th>284453</th>\n",
       "      <td>0.949149</td>\n",
       "      <td>0.044015</td>\n",
       "      <td>-0.058411</td>\n",
       "      <td>2.513532</td>\n",
       "      <td>0.059082</td>\n",
       "      <td>0.934642</td>\n",
       "      <td>-0.640597</td>\n",
       "      <td>0.392673</td>\n",
       "      <td>-0.247395</td>\n",
       "      <td>1.450409</td>\n",
       "      <td>...</td>\n",
       "      <td>-0.397312</td>\n",
       "      <td>0.232377</td>\n",
       "      <td>0.622146</td>\n",
       "      <td>0.252806</td>\n",
       "      <td>0.213511</td>\n",
       "      <td>-0.438676</td>\n",
       "      <td>0.025409</td>\n",
       "      <td>-0.008825</td>\n",
       "      <td>-0.125898</td>\n",
       "      <td>-0.307980</td>\n",
       "    </tr>\n",
       "    <tr>\n",
       "      <th>284454</th>\n",
       "      <td>-0.350399</td>\n",
       "      <td>0.625704</td>\n",
       "      <td>0.458375</td>\n",
       "      <td>0.684189</td>\n",
       "      <td>0.215713</td>\n",
       "      <td>0.946802</td>\n",
       "      <td>-0.102598</td>\n",
       "      <td>0.745199</td>\n",
       "      <td>-0.233689</td>\n",
       "      <td>-0.145345</td>\n",
       "      <td>...</td>\n",
       "      <td>0.035955</td>\n",
       "      <td>0.057669</td>\n",
       "      <td>0.460258</td>\n",
       "      <td>-0.415813</td>\n",
       "      <td>-2.153410</td>\n",
       "      <td>-0.067051</td>\n",
       "      <td>-0.205926</td>\n",
       "      <td>0.789310</td>\n",
       "      <td>0.388893</td>\n",
       "      <td>-0.293430</td>\n",
       "    </tr>\n",
       "  </tbody>\n",
       "</table>\n",
       "<p>284455 rows × 29 columns</p>\n",
       "</div>"
      ],
      "text/plain": [
       "              V1        V2        V3        V4        V5        V6        V7  \\\n",
       "Index                                                                          \n",
       "0       1.147419 -0.703022 -1.302745 -1.010736 -0.440997 -1.132659 -0.061125   \n",
       "1       0.653239  0.062649  0.338141  0.003340 -0.525322 -1.001601  0.023526   \n",
       "2       0.749269  0.016300 -0.331369 -0.476292 -0.105545 -0.884475  0.046342   \n",
       "3      -0.471804 -0.224676  1.410505 -0.563001  0.234765 -0.872412  0.224059   \n",
       "4      -0.596737  0.155281  1.394913  0.096033 -0.053377  0.683579  0.612317   \n",
       "...          ...       ...       ...       ...       ...       ...       ...   \n",
       "284450  0.621346  0.058662  0.440574  1.309144 -0.374991 -0.200788 -0.149286   \n",
       "284451  0.730377 -0.599589 -0.149411 -1.278411  0.558790  2.800570 -1.553293   \n",
       "284452  1.043083 -0.131779 -0.931285  0.133193  0.000961 -0.586908 -0.036284   \n",
       "284453  0.949149  0.044015 -0.058411  2.513532  0.059082  0.934642 -0.640597   \n",
       "284454 -0.350399  0.625704  0.458375  0.684189  0.215713  0.946802 -0.102598   \n",
       "\n",
       "              V8        V9       V10  ...       V20       V21       V22  \\\n",
       "Index                                 ...                                 \n",
       "0      -0.549860 -1.795082  1.480383  ... -0.378757  0.014549  0.719185   \n",
       "1      -0.248825  0.116245 -0.194284  ... -0.051857 -0.110948 -0.251492   \n",
       "2      -0.352571 -1.238980  0.192890  ...  0.269338 -0.319224 -0.979323   \n",
       "3      -0.209352 -0.707006 -0.057788  ... -0.597905 -0.412797 -0.340249   \n",
       "4       0.298765 -0.385611 -0.777614  ...  0.458297  0.186474  0.024185   \n",
       "...          ...       ...       ...  ...       ...       ...       ...   \n",
       "284450 -0.087922 -1.809337  1.328969  ... -0.685387 -0.391196 -0.479381   \n",
       "284451  0.870483 -0.289192  0.594568  ...  0.267625  0.513546  1.280194   \n",
       "284452 -0.075444  0.616598  0.208329  ... -0.451735  0.374024  1.163541   \n",
       "284453  0.392673 -0.247395  1.450409  ... -0.397312  0.232377  0.622146   \n",
       "284454  0.745199 -0.233689 -0.145345  ...  0.035955  0.057669  0.460258   \n",
       "\n",
       "             V23       V24       V25       V26       V27       V28    Amount  \n",
       "Index                                                                         \n",
       "0      -0.104085  0.080627  0.735394  0.215538 -0.117261 -0.196205 -0.054400  \n",
       "1       0.126441  1.304356  0.421745  1.945768 -0.195009  0.024676 -0.347672  \n",
       "2      -0.002033 -0.288505  1.023973 -0.943111  0.003869  0.093790 -0.309419  \n",
       "3      -0.073297  1.117970  0.031000 -1.522573 -0.085364 -0.196163 -0.321051  \n",
       "4       0.193748  1.050532  0.945749 -1.555795  0.072272  0.276653  0.346316  \n",
       "...          ...       ...       ...       ...       ...       ...       ...  \n",
       "284450  0.116751  0.607461  0.687086  0.091222  0.067560  0.084953 -0.275403  \n",
       "284451 -0.173269  1.731882  0.923249 -0.054681  0.155983  0.074718 -0.353108  \n",
       "284452 -0.038108 -0.673512  0.364858 -0.185807 -0.072368 -0.228999 -0.349191  \n",
       "284453  0.252806  0.213511 -0.438676  0.025409 -0.008825 -0.125898 -0.307980  \n",
       "284454 -0.415813 -2.153410 -0.067051 -0.205926  0.789310  0.388893 -0.293430  \n",
       "\n",
       "[284455 rows x 29 columns]"
      ]
     },
     "execution_count": 17,
     "metadata": {},
     "output_type": "execute_result"
    }
   ],
   "source": [
    "import scipy.stats as stats\n",
    "normalized=data.apply(stats.zscore)\n",
    "normalized"
   ]
  },
  {
   "cell_type": "code",
   "execution_count": 18,
   "metadata": {
    "scrolled": false
   },
   "outputs": [
    {
     "name": "stdout",
     "output_type": "stream",
     "text": [
      "246903\n",
      "246903\n"
     ]
    }
   ],
   "source": [
    "# Removal of rows with a ZScore of more than 3 or less than -3. Common criteria in Statistics to detect and remove outliers\n",
    "#Does not remove \n",
    "cols=data.columns\n",
    "for i in cols:\n",
    "    ind=normalized[ ((normalized[i] >=3) | (normalized[i]<=-3)) & (y!=1) ].index\n",
    "    data.drop(ind,  inplace=True)\n",
    "    normalized.drop(ind,inplace=True)\n",
    "    y.drop(ind,inplace=True)\n",
    "print(len(data))\n",
    "print(len(y))"
   ]
  },
  {
   "cell_type": "markdown",
   "metadata": {},
   "source": [
    "The data has now been cleaned of outliers, except for the ones that have class 1 which are important because we have relatively fewer samples of class 1.\n",
    "\n",
    "Note: Data was only normalized for outlier classification. The original data remains the same, since the mean and standard deviation for each column was not very high (seen in data.describe() above), and did not call for normalization."
   ]
  },
  {
   "cell_type": "markdown",
   "metadata": {},
   "source": [
    "## Using SMOTE to balance the data before applying models:"
   ]
  },
  {
   "cell_type": "code",
   "execution_count": 19,
   "metadata": {},
   "outputs": [],
   "source": [
    "from imblearn.combine import SMOTETomek\n",
    "smk=SMOTETomek()\n",
    "x_res,y_res=smk.fit_sample(data,y)"
   ]
  },
  {
   "cell_type": "markdown",
   "metadata": {},
   "source": [
    "Now that our data looks similar to the data used in class, we can try classification."
   ]
  },
  {
   "cell_type": "markdown",
   "metadata": {},
   "source": [
    "## Using KNN to classify the given data:"
   ]
  },
  {
   "cell_type": "markdown",
   "metadata": {},
   "source": [
    "1) Train test split:"
   ]
  },
  {
   "cell_type": "code",
   "execution_count": 20,
   "metadata": {},
   "outputs": [],
   "source": [
    "from sklearn.model_selection import train_test_split\n",
    "xtrain,xtest,ytrain,ytest=train_test_split(x_res,y_res,test_size=0.2)"
   ]
  },
  {
   "cell_type": "markdown",
   "metadata": {},
   "source": [
    "2) Building model:"
   ]
  },
  {
   "cell_type": "code",
   "execution_count": 21,
   "metadata": {},
   "outputs": [],
   "source": [
    "from sklearn.neighbors import KNeighborsClassifier\n",
    "from sklearn.svm import SVC\n",
    "model=SVC()\n",
    "#model=KNeighborsClassifier(n_neighbors=5)"
   ]
  },
  {
   "cell_type": "markdown",
   "metadata": {},
   "source": [
    "3) Training model:"
   ]
  },
  {
   "cell_type": "code",
   "execution_count": 22,
   "metadata": {},
   "outputs": [
    {
     "name": "stdout",
     "output_type": "stream",
     "text": [
      "Time taken to train: 1855.9797172546387\n"
     ]
    }
   ],
   "source": [
    "import time\n",
    "t0=time.time()\n",
    "model.fit(xtrain,ytrain)\n",
    "print(\"Time taken to train:\",time.time()-t0)"
   ]
  },
  {
   "cell_type": "markdown",
   "metadata": {},
   "source": [
    "4) Evaluating model:"
   ]
  },
  {
   "cell_type": "code",
   "execution_count": 23,
   "metadata": {},
   "outputs": [],
   "source": [
    "preds=model.predict(xtest)"
   ]
  },
  {
   "cell_type": "code",
   "execution_count": 24,
   "metadata": {},
   "outputs": [],
   "source": [
    "from sklearn.metrics import classification_report, confusion_matrix"
   ]
  },
  {
   "cell_type": "code",
   "execution_count": 25,
   "metadata": {
    "scrolled": true
   },
   "outputs": [
    {
     "name": "stdout",
     "output_type": "stream",
     "text": [
      "Classification Report:\n",
      "              precision    recall  f1-score   support\n",
      "\n",
      "           0       0.94      1.00      0.97     49358\n",
      "           1       1.00      0.93      0.96     49228\n",
      "\n",
      "    accuracy                           0.96     98586\n",
      "   macro avg       0.97      0.96      0.96     98586\n",
      "weighted avg       0.97      0.96      0.96     98586\n",
      "\n",
      "\n",
      "Confusion Matrix:\n",
      "[[49177   181]\n",
      " [ 3276 45952]]\n",
      "\n",
      "Accuracy: \n",
      "0.9649341691518065\n",
      "Done\n"
     ]
    }
   ],
   "source": [
    "print(\"Classification Report:\")\n",
    "print(classification_report(ytest,preds))\n",
    "print()\n",
    "print(\"Confusion Matrix:\")\n",
    "print(confusion_matrix(ytest,preds))\n",
    "print()\n",
    "print(\"Accuracy: \")\n",
    "print(model.score(xtest,ytest))\n",
    "print(\"Done\")"
   ]
  },
  {
   "cell_type": "markdown",
   "metadata": {},
   "source": [
    "181+3276 Classified incorrectly (According to the confusion matrix). But Majority classified correctly!    \n",
    "Accuracy of 96.49% achieved."
   ]
  },
  {
   "cell_type": "markdown",
   "metadata": {},
   "source": [
    "## Using PCA for dimensionality reduction:"
   ]
  },
  {
   "cell_type": "markdown",
   "metadata": {},
   "source": [
    "Using PCA to reduce the number of features from 29, to improve score and reduce execution time"
   ]
  },
  {
   "cell_type": "code",
   "execution_count": 26,
   "metadata": {},
   "outputs": [],
   "source": [
    "from sklearn.decomposition import PCA"
   ]
  },
  {
   "cell_type": "code",
   "execution_count": 27,
   "metadata": {},
   "outputs": [],
   "source": [
    "pca=PCA(n_components=5)"
   ]
  },
  {
   "cell_type": "code",
   "execution_count": 28,
   "metadata": {},
   "outputs": [
    {
     "data": {
      "text/plain": [
       "PCA(n_components=5)"
      ]
     },
     "execution_count": 28,
     "metadata": {},
     "output_type": "execute_result"
    }
   ],
   "source": [
    "pca.fit(x_res)"
   ]
  },
  {
   "cell_type": "code",
   "execution_count": 29,
   "metadata": {},
   "outputs": [],
   "source": [
    "transpca=pca.transform(x_res)"
   ]
  },
  {
   "cell_type": "code",
   "execution_count": 30,
   "metadata": {},
   "outputs": [],
   "source": [
    "transdf=pd.DataFrame(transpca, columns=['Feat1','Feat2','Feat3','Feat4','Feat5'])"
   ]
  },
  {
   "cell_type": "code",
   "execution_count": 31,
   "metadata": {},
   "outputs": [
    {
     "data": {
      "text/html": [
       "<div>\n",
       "<style scoped>\n",
       "    .dataframe tbody tr th:only-of-type {\n",
       "        vertical-align: middle;\n",
       "    }\n",
       "\n",
       "    .dataframe tbody tr th {\n",
       "        vertical-align: top;\n",
       "    }\n",
       "\n",
       "    .dataframe thead th {\n",
       "        text-align: right;\n",
       "    }\n",
       "</style>\n",
       "<table border=\"1\" class=\"dataframe\">\n",
       "  <thead>\n",
       "    <tr style=\"text-align: right;\">\n",
       "      <th></th>\n",
       "      <th>Feat1</th>\n",
       "      <th>Feat2</th>\n",
       "      <th>Feat3</th>\n",
       "      <th>Feat4</th>\n",
       "      <th>Feat5</th>\n",
       "    </tr>\n",
       "  </thead>\n",
       "  <tbody>\n",
       "    <tr>\n",
       "      <th>0</th>\n",
       "      <td>-15.428913</td>\n",
       "      <td>-9.410488</td>\n",
       "      <td>1.307459</td>\n",
       "      <td>-0.861328</td>\n",
       "      <td>-0.818295</td>\n",
       "    </tr>\n",
       "    <tr>\n",
       "      <th>1</th>\n",
       "      <td>-88.798573</td>\n",
       "      <td>-9.351572</td>\n",
       "      <td>1.125245</td>\n",
       "      <td>-0.968249</td>\n",
       "      <td>-1.617943</td>\n",
       "    </tr>\n",
       "    <tr>\n",
       "      <th>2</th>\n",
       "      <td>-79.232178</td>\n",
       "      <td>-9.244099</td>\n",
       "      <td>0.943158</td>\n",
       "      <td>-0.732150</td>\n",
       "      <td>-0.155069</td>\n",
       "    </tr>\n",
       "    <tr>\n",
       "      <th>3</th>\n",
       "      <td>84.822651</td>\n",
       "      <td>-9.525179</td>\n",
       "      <td>1.591837</td>\n",
       "      <td>-0.888912</td>\n",
       "      <td>-1.384508</td>\n",
       "    </tr>\n",
       "    <tr>\n",
       "      <th>4</th>\n",
       "      <td>-61.128501</td>\n",
       "      <td>-9.456472</td>\n",
       "      <td>1.227995</td>\n",
       "      <td>-0.910933</td>\n",
       "      <td>-1.513471</td>\n",
       "    </tr>\n",
       "    <tr>\n",
       "      <th>...</th>\n",
       "      <td>...</td>\n",
       "      <td>...</td>\n",
       "      <td>...</td>\n",
       "      <td>...</td>\n",
       "      <td>...</td>\n",
       "    </tr>\n",
       "    <tr>\n",
       "      <th>492921</th>\n",
       "      <td>-88.171503</td>\n",
       "      <td>-0.076206</td>\n",
       "      <td>-2.877866</td>\n",
       "      <td>1.142947</td>\n",
       "      <td>3.789485</td>\n",
       "    </tr>\n",
       "    <tr>\n",
       "      <th>492922</th>\n",
       "      <td>-88.861105</td>\n",
       "      <td>-9.159105</td>\n",
       "      <td>0.874142</td>\n",
       "      <td>-0.650366</td>\n",
       "      <td>-0.177934</td>\n",
       "    </tr>\n",
       "    <tr>\n",
       "      <th>492923</th>\n",
       "      <td>-89.208352</td>\n",
       "      <td>-7.122711</td>\n",
       "      <td>-0.346195</td>\n",
       "      <td>2.074452</td>\n",
       "      <td>12.206100</td>\n",
       "    </tr>\n",
       "    <tr>\n",
       "      <th>492924</th>\n",
       "      <td>-63.605360</td>\n",
       "      <td>-3.144013</td>\n",
       "      <td>-1.097630</td>\n",
       "      <td>0.224578</td>\n",
       "      <td>0.940539</td>\n",
       "    </tr>\n",
       "    <tr>\n",
       "      <th>492925</th>\n",
       "      <td>184.052185</td>\n",
       "      <td>-6.178616</td>\n",
       "      <td>0.182686</td>\n",
       "      <td>0.160834</td>\n",
       "      <td>1.813763</td>\n",
       "    </tr>\n",
       "  </tbody>\n",
       "</table>\n",
       "<p>492926 rows × 5 columns</p>\n",
       "</div>"
      ],
      "text/plain": [
       "             Feat1     Feat2     Feat3     Feat4      Feat5\n",
       "0       -15.428913 -9.410488  1.307459 -0.861328  -0.818295\n",
       "1       -88.798573 -9.351572  1.125245 -0.968249  -1.617943\n",
       "2       -79.232178 -9.244099  0.943158 -0.732150  -0.155069\n",
       "3        84.822651 -9.525179  1.591837 -0.888912  -1.384508\n",
       "4       -61.128501 -9.456472  1.227995 -0.910933  -1.513471\n",
       "...            ...       ...       ...       ...        ...\n",
       "492921  -88.171503 -0.076206 -2.877866  1.142947   3.789485\n",
       "492922  -88.861105 -9.159105  0.874142 -0.650366  -0.177934\n",
       "492923  -89.208352 -7.122711 -0.346195  2.074452  12.206100\n",
       "492924  -63.605360 -3.144013 -1.097630  0.224578   0.940539\n",
       "492925  184.052185 -6.178616  0.182686  0.160834   1.813763\n",
       "\n",
       "[492926 rows x 5 columns]"
      ]
     },
     "execution_count": 31,
     "metadata": {},
     "output_type": "execute_result"
    }
   ],
   "source": [
    "transdf"
   ]
  },
  {
   "cell_type": "code",
   "execution_count": 32,
   "metadata": {},
   "outputs": [],
   "source": [
    "xtrain,xtest,ytrain,ytest=train_test_split(transdf,y_res,test_size=0.2)\n",
    "#Note: y contains the classes and that remains unchanged through PCA"
   ]
  },
  {
   "cell_type": "code",
   "execution_count": 33,
   "metadata": {},
   "outputs": [
    {
     "name": "stdout",
     "output_type": "stream",
     "text": [
      "Model built. Training...\n",
      "Training complete!\n"
     ]
    }
   ],
   "source": [
    "model=KNeighborsClassifier(n_neighbors=5)\n",
    "print(\"Model built. Training...\")\n",
    "model.fit(xtrain,ytrain)\n",
    "print(\"Training complete!\")"
   ]
  },
  {
   "cell_type": "code",
   "execution_count": 34,
   "metadata": {},
   "outputs": [],
   "source": [
    "preds=model.predict(xtest)"
   ]
  },
  {
   "cell_type": "code",
   "execution_count": 35,
   "metadata": {},
   "outputs": [
    {
     "name": "stdout",
     "output_type": "stream",
     "text": [
      "Classification Report:\n",
      "              precision    recall  f1-score   support\n",
      "\n",
      "           0       1.00      0.99      1.00     49284\n",
      "           1       0.99      1.00      1.00     49302\n",
      "\n",
      "    accuracy                           1.00     98586\n",
      "   macro avg       1.00      1.00      1.00     98586\n",
      "weighted avg       1.00      1.00      1.00     98586\n",
      "\n",
      "\n",
      "Confusion Matrix:\n",
      "[[48957   327]\n",
      " [   28 49274]]\n",
      "\n",
      "Accuracy: \n",
      "0.9963990830341022\n",
      "Done\n"
     ]
    }
   ],
   "source": [
    "print(\"Classification Report:\")\n",
    "print(classification_report(ytest,preds))\n",
    "print()\n",
    "print(\"Confusion Matrix:\")\n",
    "print(confusion_matrix(ytest,preds))\n",
    "print()\n",
    "print(\"Accuracy: \")\n",
    "print(model.score(xtest,ytest))\n",
    "print(\"Done\")"
   ]
  },
  {
   "cell_type": "markdown",
   "metadata": {},
   "source": [
    "PCA with N_components=5 improves our results. Now we only have 327+28 misclassifications, and our accuracy has improved to 99.64%. Despite condensing 29 feats into only 5, we have noted a considerable imporvement in our model!\n",
    "\n",
    "Since we observed earlier that most features dont have high correlation with eachother, it is important that we try PCA with more components just incase we have faced a loss of data during this dimensinoality reduction. Hence, we retry with n_components =15 (Half the data):"
   ]
  },
  {
   "cell_type": "code",
   "execution_count": 36,
   "metadata": {},
   "outputs": [],
   "source": [
    "pca=PCA(n_components=15)\n",
    "pca.fit(x_res)\n",
    "transpca=pca.transform(x_res)\n",
    "transdf=pd.DataFrame(transpca, columns=['Feat'+str(i) for i in range(1,15+1)])\n",
    "xtrain,xtest,ytrain,ytest=train_test_split(transdf,y_res,test_size=0.2)"
   ]
  },
  {
   "cell_type": "code",
   "execution_count": 37,
   "metadata": {},
   "outputs": [
    {
     "name": "stdout",
     "output_type": "stream",
     "text": [
      "Model built. Training...\n",
      "Training complete! Evaluating...\n",
      "Classification Report:\n",
      "              precision    recall  f1-score   support\n",
      "\n",
      "           0       1.00      1.00      1.00     49382\n",
      "           1       1.00      1.00      1.00     49204\n",
      "\n",
      "    accuracy                           1.00     98586\n",
      "   macro avg       1.00      1.00      1.00     98586\n",
      "weighted avg       1.00      1.00      1.00     98586\n",
      "\n",
      "\n",
      "Confusion Matrix:\n",
      "[[49277   105]\n",
      " [    0 49204]]\n",
      "\n",
      "Accuracy: \n",
      "0.9989349400523401\n",
      "Done\n"
     ]
    }
   ],
   "source": [
    "model=KNeighborsClassifier(n_neighbors=5)\n",
    "print(\"Model built. Training...\")\n",
    "model.fit(xtrain,ytrain)\n",
    "print(\"Training complete! Evaluating...\")\n",
    "preds=model.predict(xtest)\n",
    "\n",
    "print(\"Classification Report:\")\n",
    "print(classification_report(ytest,preds))\n",
    "print()\n",
    "print(\"Confusion Matrix:\")\n",
    "print(confusion_matrix(ytest,preds))\n",
    "print()\n",
    "print(\"Accuracy: \")\n",
    "print(model.score(xtest,ytest))\n",
    "print(\"Done\")"
   ]
  },
  {
   "cell_type": "markdown",
   "metadata": {},
   "source": [
    "Using half the features has improved our model by far! We now only have 105 misclassifications and a 99.89% accuracy. This indicates that we did lose some data while consdensing our 29 features into just 5 features due to the lack of strong correlation.\n",
    "\n",
    "Let us try one last time with n_components=20:"
   ]
  },
  {
   "cell_type": "code",
   "execution_count": 38,
   "metadata": {},
   "outputs": [],
   "source": [
    "pca=PCA(n_components=20)\n",
    "pca.fit(x_res)\n",
    "transpca=pca.transform(x_res)\n",
    "transdf=pd.DataFrame(transpca, columns=['Feat'+str(i) for i in range(1,20+1)])\n",
    "xtrain,xtest,ytrain,ytest=train_test_split(transdf,y_res,test_size=0.2)"
   ]
  },
  {
   "cell_type": "code",
   "execution_count": 39,
   "metadata": {},
   "outputs": [
    {
     "name": "stdout",
     "output_type": "stream",
     "text": [
      "Model built. Training...\n",
      "Training complete! Evaluating...\n",
      "Classification Report:\n",
      "              precision    recall  f1-score   support\n",
      "\n",
      "           0       1.00      1.00      1.00     49338\n",
      "           1       1.00      1.00      1.00     49248\n",
      "\n",
      "    accuracy                           1.00     98586\n",
      "   macro avg       1.00      1.00      1.00     98586\n",
      "weighted avg       1.00      1.00      1.00     98586\n",
      "\n",
      "\n",
      "Confusion Matrix:\n",
      "[[49242    96]\n",
      " [    0 49248]]\n",
      "\n",
      "Accuracy: \n",
      "0.9990262309049966\n",
      "Done\n"
     ]
    }
   ],
   "source": [
    "model=KNeighborsClassifier(n_neighbors=5)\n",
    "print(\"Model built. Training...\")\n",
    "model.fit(xtrain,ytrain)\n",
    "print(\"Training complete! Evaluating...\")\n",
    "preds=model.predict(xtest)\n",
    "\n",
    "print(\"Classification Report:\")\n",
    "print(classification_report(ytest,preds))\n",
    "print()\n",
    "print(\"Confusion Matrix:\")\n",
    "print(confusion_matrix(ytest,preds))\n",
    "print()\n",
    "print(\"Accuracy: \")\n",
    "print(model.score(xtest,ytest))\n",
    "print(\"Done\")"
   ]
  },
  {
   "cell_type": "markdown",
   "metadata": {},
   "source": [
    "It seems that the effectiveness of PCA begins to stablize, as we can see that the model misclassified 96 rows, and the previous model misclassified 105 rows as well. This is a very small change compared to the fact that there are now 5 additional features for the model to learn from. Hence, it seems that the effect of using PCA stablizes and reaches a maximum eventually, but is still effective on the given data to improve our model's predictions."
   ]
  },
  {
   "cell_type": "markdown",
   "metadata": {},
   "source": [
    "## Conclusion"
   ]
  },
  {
   "cell_type": "markdown",
   "metadata": {},
   "source": [
    "PCA allowed us to use fewer features (even Half the features) to allow us to reduce the complexity of the model, while still maintaining a certain level of accuracy.\n",
    "\n",
    "It seems that PCA was more effective than using all the features given. Despite the correlation between most features being very low, using PCA allowed our model to better identify if the Credit Card Transactions were fraudulant or not. This is also possibly due to the lack of correlation between most columns and the target class that we wanted to predict."
   ]
  },
  {
   "cell_type": "code",
   "execution_count": null,
   "metadata": {},
   "outputs": [],
   "source": []
  }
 ],
 "metadata": {
  "kernelspec": {
   "display_name": "Python 3",
   "language": "python",
   "name": "python3"
  },
  "language_info": {
   "codemirror_mode": {
    "name": "ipython",
    "version": 3
   },
   "file_extension": ".py",
   "mimetype": "text/x-python",
   "name": "python",
   "nbconvert_exporter": "python",
   "pygments_lexer": "ipython3",
   "version": "3.7.7"
  }
 },
 "nbformat": 4,
 "nbformat_minor": 4
}
